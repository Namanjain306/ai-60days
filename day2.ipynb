{
  "nbformat": 4,
  "nbformat_minor": 0,
  "metadata": {
    "colab": {
      "provenance": [],
      "authorship_tag": "ABX9TyPpEn7h6DDsUJJEBtf9Aw1h",
      "include_colab_link": true
    },
    "kernelspec": {
      "name": "python3",
      "display_name": "Python 3"
    },
    "language_info": {
      "name": "python"
    }
  },
  "cells": [
    {
      "cell_type": "markdown",
      "metadata": {
        "id": "view-in-github",
        "colab_type": "text"
      },
      "source": [
        "<a href=\"https://colab.research.google.com/github/Namanjain306/ai-60days/blob/main/day2.ipynb\" target=\"_parent\"><img src=\"https://colab.research.google.com/assets/colab-badge.svg\" alt=\"Open In Colab\"/></a>"
      ]
    },
    {
      "cell_type": "code",
      "execution_count": 8,
      "metadata": {
        "colab": {
          "base_uri": "https://localhost:8080/"
        },
        "id": "xrdnllodk055",
        "outputId": "8ec22ab0-5e3a-42d1-8ea3-ef48c9696fd1"
      },
      "outputs": [
        {
          "output_type": "stream",
          "name": "stdout",
          "text": [
            "a+b= 7\n",
            "first element 10\n",
            "sum 10\n",
            "reversed olleh\n",
            "square(5) 25\n",
            "sum 30\n",
            "reversed olleh\n",
            "square(5) 25\n",
            "sum 60\n",
            "reversed olleh\n",
            "square(5) 25\n"
          ]
        }
      ],
      "source": [
        "a=5\n",
        "b=2\n",
        "print(\"a+b=\",a+b)\n",
        "\n",
        "nums=[10,20,30]\n",
        "print(\"first element\",nums[0])\n",
        "\n",
        "\n",
        "total=0\n",
        "\n",
        "for x in nums:\n",
        "  total+=x\n",
        "  print(\"sum\",total)\n",
        "\n",
        "\n",
        "  s=\"hello\"\n",
        "  rev=s[::-1]\n",
        "  print(\"reversed\",rev)\n",
        "\n",
        "\n",
        "  def square(x):\n",
        "    return x*x\n",
        "\n",
        "  print(\"square(5)\",square(5))"
      ]
    }
  ]
}